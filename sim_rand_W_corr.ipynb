{
 "cells": [
  {
   "cell_type": "code",
   "execution_count": 1,
   "metadata": {
    "collapsed": false
   },
   "outputs": [],
   "source": [
    "import numpy as np\n",
    "import matplotlib.pyplot as plt\n",
    "import time"
   ]
  },
  {
   "cell_type": "code",
   "execution_count": 2,
   "metadata": {
    "collapsed": false
   },
   "outputs": [],
   "source": [
    "%matplotlib inline"
   ]
  },
  {
   "cell_type": "code",
   "execution_count": 3,
   "metadata": {
    "collapsed": true
   },
   "outputs": [],
   "source": [
    "n=100\n",
    "g=4"
   ]
  },
  {
   "cell_type": "markdown",
   "metadata": {},
   "source": [
    "Random Gaussian W"
   ]
  },
  {
   "cell_type": "code",
   "execution_count": 4,
   "metadata": {
    "collapsed": true
   },
   "outputs": [],
   "source": [
    "W=np.random.randn(n,n)/np.sqrt(n)*g"
   ]
  },
  {
   "cell_type": "markdown",
   "metadata": {},
   "source": [
    "Random unitary W"
   ]
  },
  {
   "cell_type": "code",
   "execution_count": 814,
   "metadata": {
    "collapsed": true
   },
   "outputs": [],
   "source": [
    "# W=np.random.randn(n,n)\n",
    "# u,_,_=np.linalg.svd(W)\n",
    "# W=u"
   ]
  },
  {
   "cell_type": "markdown",
   "metadata": {},
   "source": [
    "Random anti-symmetric W"
   ]
  },
  {
   "cell_type": "code",
   "execution_count": 815,
   "metadata": {
    "collapsed": true
   },
   "outputs": [],
   "source": [
    "# W=np.random.randn(n,n)\n",
    "# W=(W-W.T)/.2"
   ]
  },
  {
   "cell_type": "markdown",
   "metadata": {},
   "source": [
    "Normalize spectral radius of W"
   ]
  },
  {
   "cell_type": "code",
   "execution_count": 5,
   "metadata": {
    "collapsed": true
   },
   "outputs": [],
   "source": [
    "e,_=np.linalg.eig(W)\n",
    "rw=max(abs(e))\n",
    "W=W/rw*g"
   ]
  },
  {
   "cell_type": "code",
   "execution_count": 7,
   "metadata": {
    "collapsed": true
   },
   "outputs": [],
   "source": [
    "x=np.zeros(n)\n",
    "T=800\n",
    "dt=0.01\n",
    "ndt_corr=10\n",
    "T_corr=15\n",
    "nT_corr=int(round(T_corr/dt))\n",
    "nT=int(round(T/dt))"
   ]
  },
  {
   "cell_type": "code",
   "execution_count": 818,
   "metadata": {
    "collapsed": false
   },
   "outputs": [],
   "source": [
    "x0=(np.random.rand(n)-0.5)*2\n",
    "#  saved only part of x\n",
    "Ts=100\n",
    "nTs=int(round(Ts/dt))\n",
    "ns=n\n",
    "xs=np.zeros((ns,nTs))\n",
    "xs[:,0]=x0[:ns]\n",
    "corr_n=np.zeros((ns,nT_corr))"
   ]
  },
  {
   "cell_type": "code",
   "execution_count": 819,
   "metadata": {
    "collapsed": false
   },
   "outputs": [],
   "source": [
    "# x0=(np.random.rand(n)-0.5)*2\n",
    "# #  saved only part of x\n",
    "# Ts=100\n",
    "# nTs=int(round(Ts/dt))\n",
    "# ns=20\n",
    "# xs=np.zeros((ns,nTs))\n",
    "# xs[:,-1]=x[:ns]\n",
    "\n",
    "# start_time = time.clock()\n",
    "# for i in xrange(nT):\n",
    "#     x=(np.tanh(np.dot(W,x0))-x0)*dt+x0    \n",
    "#     xs[:,:-1]=xs[:,1:]\n",
    "#     xs[:,-1]=x[:ns]\n",
    "#     x0=x        \n",
    "# print time.clock()-start_time "
   ]
  },
  {
   "cell_type": "code",
   "execution_count": 820,
   "metadata": {
    "collapsed": false
   },
   "outputs": [
    {
     "name": "stdout",
     "output_type": "stream",
     "text": [
      "1.01628\n"
     ]
    }
   ],
   "source": [
    "# circulant index\n",
    "idt=0\n",
    "start_time = time.clock()\n",
    "for i in xrange(nT):\n",
    "    x=(np.tanh(np.dot(W,x0))-x0)*dt+x0    \n",
    "    idt=(idt+1) % nTs\n",
    "    xs[:,idt]=x[:ns]\n",
    "    x0=x        \n",
    "print time.clock()-start_time "
   ]
  },
  {
   "cell_type": "code",
   "execution_count": 821,
   "metadata": {
    "collapsed": false
   },
   "outputs": [],
   "source": [
    "fig1=plt.figure(1)\n",
    "plt.clf()\n",
    "ax1=fig1.add_axes()\n",
    "plt.plot(xs[7:13,np.hstack((range(idt+1,nTs),range(idt+1)))].T)\n",
    "# plt.ylim([-1.1,0.3])\n",
    "plt.show()"
   ]
  },
  {
   "cell_type": "code",
   "execution_count": null,
   "metadata": {
    "collapsed": true
   },
   "outputs": [],
   "source": []
  }
 ],
 "metadata": {
  "kernelspec": {
   "display_name": "Python 2",
   "language": "python",
   "name": "python2"
  },
  "language_info": {
   "codemirror_mode": {
    "name": "ipython",
    "version": 2
   },
   "file_extension": ".py",
   "mimetype": "text/x-python",
   "name": "python",
   "nbconvert_exporter": "python",
   "pygments_lexer": "ipython2",
   "version": "2.7.10"
  }
 },
 "nbformat": 4,
 "nbformat_minor": 0
}
